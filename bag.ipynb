{
 "cells": [
  {
   "cell_type": "markdown",
   "metadata": {},
   "source": [
    "# Dask Bags\n",
    "\n",
    "\n",
    "Dask Bag implements operations like `map`, `filter`, `groupby` and aggregations on collections of Python objects. It does this in parallel and in small memory using Python iterators. It is similar to a parallel version of itertools or a Pythonic version of the PySpark RDD.\n",
    "\n",
    "Dask Bags are often used to do simple preprocessing on log files, JSON records, or other user defined Python objects.\n",
    "\n",
    "Full API documentation is available here: http://docs.dask.org/en/latest/bag-api.html"
   ]
  },
  {
   "cell_type": "markdown",
   "metadata": {},
   "source": [
    "## Create Random Data\n",
    "\n",
    "We create a random set of record data and store it to disk as many JSON files.  This will serve as our data for this notebook."
   ]
  },
  {
   "cell_type": "code",
   "execution_count": 2,
   "metadata": {},
   "outputs": [
    {
     "data": {
      "text/plain": [
       "['/home/mirko/Github/sosc24/data/0.json',\n",
       " '/home/mirko/Github/sosc24/data/1.json',\n",
       " '/home/mirko/Github/sosc24/data/2.json',\n",
       " '/home/mirko/Github/sosc24/data/3.json',\n",
       " '/home/mirko/Github/sosc24/data/4.json',\n",
       " '/home/mirko/Github/sosc24/data/5.json',\n",
       " '/home/mirko/Github/sosc24/data/6.json',\n",
       " '/home/mirko/Github/sosc24/data/7.json',\n",
       " '/home/mirko/Github/sosc24/data/8.json',\n",
       " '/home/mirko/Github/sosc24/data/9.json']"
      ]
     },
     "execution_count": 2,
     "metadata": {},
     "output_type": "execute_result"
    }
   ],
   "source": [
    "import dask\n",
    "import json\n",
    "import os\n",
    "\n",
    "os.makedirs('data', exist_ok=True)              # Create data/ directory\n",
    "\n",
    "b = dask.datasets.make_people()                 # Make records of people\n",
    "b.map(json.dumps).to_textfiles('data/*.json')   # Encode as JSON, write to disk"
   ]
  },
  {
   "cell_type": "markdown",
   "metadata": {},
   "source": [
    "## Read JSON data\n",
    "\n",
    "Now that we have some JSON data in a file lets take a look at it with Dask Bag and Python JSON module. Dask Bag can load data directly from text files using `db.read_text` (use `db.from_sequence` to create a bag from an existing Python iterable)"
   ]
  },
  {
   "cell_type": "code",
   "execution_count": 3,
   "metadata": {},
   "outputs": [
    {
     "name": "stdout",
     "output_type": "stream",
     "text": [
      "{\"age\": 111, \"name\": [\"Brittny\", \"Simmons\"], \"occupation\": \"Pipe Inspector\", \"telephone\": \"+18128827560\", \"address\": {\"address\": \"813 Bluestone Motorway\", \"city\": \"Virginia Beach\"}, \"credit-card\": {\"number\": \"5129 3649 9791 3665\", \"expiration-date\": \"03/17\"}}\n",
      "{\"age\": 119, \"name\": [\"Nicholle\", \"Stokes\"], \"occupation\": \"Gambler\", \"telephone\": \"+17170433209\", \"address\": {\"address\": \"510 Quint Lake\", \"city\": \"Ottawa\"}, \"credit-card\": {\"number\": \"5142 3506 1351 8247\", \"expiration-date\": \"12/23\"}}\n"
     ]
    }
   ],
   "source": [
    "!head -n 2 data/0.json"
   ]
  },
  {
   "cell_type": "code",
   "execution_count": 4,
   "metadata": {},
   "outputs": [
    {
     "data": {
      "text/plain": [
       "dask.bag<loads, npartitions=10>"
      ]
     },
     "execution_count": 4,
     "metadata": {},
     "output_type": "execute_result"
    }
   ],
   "source": [
    "import dask.bag as db\n",
    "import json\n",
    "\n",
    "b = db.read_text('data/*.json').map(json.loads)\n",
    "b"
   ]
  },
  {
   "cell_type": "code",
   "execution_count": 5,
   "metadata": {},
   "outputs": [
    {
     "data": {
      "text/plain": [
       "({'age': 111,\n",
       "  'name': ['Brittny', 'Simmons'],\n",
       "  'occupation': 'Pipe Inspector',\n",
       "  'telephone': '+18128827560',\n",
       "  'address': {'address': '813 Bluestone Motorway', 'city': 'Virginia Beach'},\n",
       "  'credit-card': {'number': '5129 3649 9791 3665',\n",
       "   'expiration-date': '03/17'}},\n",
       " {'age': 119,\n",
       "  'name': ['Nicholle', 'Stokes'],\n",
       "  'occupation': 'Gambler',\n",
       "  'telephone': '+17170433209',\n",
       "  'address': {'address': '510 Quint Lake', 'city': 'Ottawa'},\n",
       "  'credit-card': {'number': '5142 3506 1351 8247',\n",
       "   'expiration-date': '12/23'}})"
      ]
     },
     "execution_count": 5,
     "metadata": {},
     "output_type": "execute_result"
    }
   ],
   "source": [
    "b.take(2)"
   ]
  },
  {
   "cell_type": "markdown",
   "metadata": {},
   "source": [
    "## Map, Filter, Aggregate\n",
    "\n",
    "We can process this data by filtering out only certain records of interest, mapping functions over it to process our data, and aggregating those results to a total value."
   ]
  },
  {
   "cell_type": "code",
   "execution_count": 6,
   "metadata": {},
   "outputs": [
    {
     "data": {
      "text/plain": [
       "({'age': 111,\n",
       "  'name': ['Brittny', 'Simmons'],\n",
       "  'occupation': 'Pipe Inspector',\n",
       "  'telephone': '+18128827560',\n",
       "  'address': {'address': '813 Bluestone Motorway', 'city': 'Virginia Beach'},\n",
       "  'credit-card': {'number': '5129 3649 9791 3665',\n",
       "   'expiration-date': '03/17'}},\n",
       " {'age': 119,\n",
       "  'name': ['Nicholle', 'Stokes'],\n",
       "  'occupation': 'Gambler',\n",
       "  'telephone': '+17170433209',\n",
       "  'address': {'address': '510 Quint Lake', 'city': 'Ottawa'},\n",
       "  'credit-card': {'number': '5142 3506 1351 8247',\n",
       "   'expiration-date': '12/23'}})"
      ]
     },
     "execution_count": 6,
     "metadata": {},
     "output_type": "execute_result"
    }
   ],
   "source": [
    "b.filter(lambda record: record['age'] > 30).take(2)  # Select only people over 30"
   ]
  },
  {
   "cell_type": "code",
   "execution_count": 7,
   "metadata": {},
   "outputs": [
    {
     "data": {
      "text/plain": [
       "('Pipe Inspector', 'Gambler')"
      ]
     },
     "execution_count": 7,
     "metadata": {},
     "output_type": "execute_result"
    }
   ],
   "source": [
    "b.map(lambda record: record['occupation']).take(2)  # Select the occupation field"
   ]
  },
  {
   "cell_type": "code",
   "execution_count": 8,
   "metadata": {},
   "outputs": [
    {
     "data": {
      "text/plain": [
       "10000"
      ]
     },
     "execution_count": 8,
     "metadata": {},
     "output_type": "execute_result"
    }
   ],
   "source": [
    "b.count().compute()  # Count total number of records"
   ]
  },
  {
   "cell_type": "markdown",
   "metadata": {},
   "source": [
    "## Chain computations\n",
    "\n",
    "It is common to do many of these steps in one pipeline, only calling `compute` or `take` at the end."
   ]
  },
  {
   "cell_type": "code",
   "execution_count": 9,
   "metadata": {},
   "outputs": [
    {
     "data": {
      "text/plain": [
       "dask.bag<topk-aggregate, npartitions=1>"
      ]
     },
     "execution_count": 9,
     "metadata": {},
     "output_type": "execute_result"
    }
   ],
   "source": [
    "result = (b.filter(lambda record: record['age'] > 30)\n",
    "           .map(lambda record: record['occupation'])\n",
    "           .frequencies(sort=True)\n",
    "           .topk(10, key=1))\n",
    "result"
   ]
  },
  {
   "cell_type": "markdown",
   "metadata": {},
   "source": [
    "As with all lazy Dask collections, we need to call `compute` to actually evaluate our result.  The `take` method used in earlier examples is also like `compute` and will also trigger computation."
   ]
  },
  {
   "cell_type": "code",
   "execution_count": 10,
   "metadata": {},
   "outputs": [
    {
     "data": {
      "text/plain": [
       "[('Flower Arranger', 16),\n",
       " ('Yard Manager', 15),\n",
       " ('Hotel Worker', 15),\n",
       " ('Recruitment Consultant', 15),\n",
       " ('Parts Man', 14),\n",
       " ('Housewife', 14),\n",
       " ('Screen Printer', 13),\n",
       " ('Quality Engineer', 13),\n",
       " ('Share Dealer', 13),\n",
       " ('Clairvoyant', 13)]"
      ]
     },
     "execution_count": 10,
     "metadata": {},
     "output_type": "execute_result"
    }
   ],
   "source": [
    "result.compute()"
   ]
  },
  {
   "cell_type": "markdown",
   "metadata": {},
   "source": [
    "## Transform and Store\n",
    "\n",
    "Sometimes we want to compute aggregations as above, but sometimes we want to store results to disk for future analyses.  For that we can use methods like `to_textfiles` and `json.dumps`, or we can convert to Dask Dataframes and use their storage systems, which we'll see more of in the next section."
   ]
  },
  {
   "cell_type": "code",
   "execution_count": 11,
   "metadata": {},
   "outputs": [
    {
     "data": {
      "text/plain": [
       "['/home/mirko/Github/sosc24/data/processed.0.json',\n",
       " '/home/mirko/Github/sosc24/data/processed.1.json',\n",
       " '/home/mirko/Github/sosc24/data/processed.2.json',\n",
       " '/home/mirko/Github/sosc24/data/processed.3.json',\n",
       " '/home/mirko/Github/sosc24/data/processed.4.json',\n",
       " '/home/mirko/Github/sosc24/data/processed.5.json',\n",
       " '/home/mirko/Github/sosc24/data/processed.6.json',\n",
       " '/home/mirko/Github/sosc24/data/processed.7.json',\n",
       " '/home/mirko/Github/sosc24/data/processed.8.json',\n",
       " '/home/mirko/Github/sosc24/data/processed.9.json']"
      ]
     },
     "execution_count": 11,
     "metadata": {},
     "output_type": "execute_result"
    }
   ],
   "source": [
    "(b.filter(lambda record: record['age'] > 30)  # Select records of interest\n",
    "  .map(json.dumps)                            # Convert Python objects to text\n",
    "  .to_textfiles('data/processed.*.json'))     # Write to local disk"
   ]
  },
  {
   "cell_type": "markdown",
   "metadata": {},
   "source": [
    "## Convert to Dask Dataframes\n",
    "\n",
    "Dask Bags are good for reading in initial data, doing a bit of pre-processing, and then handing off to some other more efficient form like Dask Dataframes.  Dask Dataframes use Pandas internally, and so can be much faster on numeric data and also have more complex algorithms.  \n",
    "\n",
    "However, Dask Dataframes also expect data that is organized as flat columns.  It does not support nested JSON data very well (Bag is better for this).\n",
    "\n",
    "Here we make a function to flatten down our nested data structure, map that across our records, and then convert that to a Dask Dataframe."
   ]
  },
  {
   "cell_type": "code",
   "execution_count": 12,
   "metadata": {},
   "outputs": [
    {
     "data": {
      "text/plain": [
       "({'age': 111,\n",
       "  'name': ['Brittny', 'Simmons'],\n",
       "  'occupation': 'Pipe Inspector',\n",
       "  'telephone': '+18128827560',\n",
       "  'address': {'address': '813 Bluestone Motorway', 'city': 'Virginia Beach'},\n",
       "  'credit-card': {'number': '5129 3649 9791 3665',\n",
       "   'expiration-date': '03/17'}},)"
      ]
     },
     "execution_count": 12,
     "metadata": {},
     "output_type": "execute_result"
    }
   ],
   "source": [
    "b.take(1)"
   ]
  },
  {
   "cell_type": "code",
   "execution_count": 13,
   "metadata": {},
   "outputs": [
    {
     "data": {
      "text/plain": [
       "({'age': 111,\n",
       "  'occupation': 'Pipe Inspector',\n",
       "  'telephone': '+18128827560',\n",
       "  'credit-card-number': '5129 3649 9791 3665',\n",
       "  'credit-card-expiration': '03/17',\n",
       "  'name': 'Brittny Simmons',\n",
       "  'street-address': '813 Bluestone Motorway',\n",
       "  'city': 'Virginia Beach'},)"
      ]
     },
     "execution_count": 13,
     "metadata": {},
     "output_type": "execute_result"
    }
   ],
   "source": [
    "def flatten(record):\n",
    "    return {\n",
    "        'age': record['age'],\n",
    "        'occupation': record['occupation'],\n",
    "        'telephone': record['telephone'],\n",
    "        'credit-card-number': record['credit-card']['number'],\n",
    "        'credit-card-expiration': record['credit-card']['expiration-date'],\n",
    "        'name': ' '.join(record['name']),\n",
    "        'street-address': record['address']['address'],\n",
    "        'city': record['address']['city']   \n",
    "    }\n",
    "\n",
    "b.map(flatten).take(1)"
   ]
  },
  {
   "cell_type": "code",
   "execution_count": 14,
   "metadata": {},
   "outputs": [
    {
     "data": {
      "text/html": [
       "<div>\n",
       "<style scoped>\n",
       "    .dataframe tbody tr th:only-of-type {\n",
       "        vertical-align: middle;\n",
       "    }\n",
       "\n",
       "    .dataframe tbody tr th {\n",
       "        vertical-align: top;\n",
       "    }\n",
       "\n",
       "    .dataframe thead th {\n",
       "        text-align: right;\n",
       "    }\n",
       "</style>\n",
       "<table border=\"1\" class=\"dataframe\">\n",
       "  <thead>\n",
       "    <tr style=\"text-align: right;\">\n",
       "      <th></th>\n",
       "      <th>age</th>\n",
       "      <th>occupation</th>\n",
       "      <th>telephone</th>\n",
       "      <th>credit-card-number</th>\n",
       "      <th>credit-card-expiration</th>\n",
       "      <th>name</th>\n",
       "      <th>street-address</th>\n",
       "      <th>city</th>\n",
       "    </tr>\n",
       "  </thead>\n",
       "  <tbody>\n",
       "    <tr>\n",
       "      <th>0</th>\n",
       "      <td>111</td>\n",
       "      <td>Pipe Inspector</td>\n",
       "      <td>+18128827560</td>\n",
       "      <td>5129 3649 9791 3665</td>\n",
       "      <td>03/17</td>\n",
       "      <td>Brittny Simmons</td>\n",
       "      <td>813 Bluestone Motorway</td>\n",
       "      <td>Virginia Beach</td>\n",
       "    </tr>\n",
       "    <tr>\n",
       "      <th>1</th>\n",
       "      <td>119</td>\n",
       "      <td>Gambler</td>\n",
       "      <td>+17170433209</td>\n",
       "      <td>5142 3506 1351 8247</td>\n",
       "      <td>12/23</td>\n",
       "      <td>Nicholle Stokes</td>\n",
       "      <td>510 Quint Lake</td>\n",
       "      <td>Ottawa</td>\n",
       "    </tr>\n",
       "    <tr>\n",
       "      <th>2</th>\n",
       "      <td>50</td>\n",
       "      <td>Student Teacher</td>\n",
       "      <td>+1-570-230-4769</td>\n",
       "      <td>2462 4495 2187 3907</td>\n",
       "      <td>11/20</td>\n",
       "      <td>Tanja Jacobson</td>\n",
       "      <td>1169 Sheldon Circle</td>\n",
       "      <td>Edwardsville</td>\n",
       "    </tr>\n",
       "    <tr>\n",
       "      <th>3</th>\n",
       "      <td>102</td>\n",
       "      <td>Litigation Manager</td>\n",
       "      <td>+12103992710</td>\n",
       "      <td>2661 4959 5373 2607</td>\n",
       "      <td>01/20</td>\n",
       "      <td>Jerrod Graham</td>\n",
       "      <td>809 Osage Drive</td>\n",
       "      <td>South Holland</td>\n",
       "    </tr>\n",
       "    <tr>\n",
       "      <th>4</th>\n",
       "      <td>7</td>\n",
       "      <td>Tug Skipper</td>\n",
       "      <td>+12106465269</td>\n",
       "      <td>3499 791994 41697</td>\n",
       "      <td>07/17</td>\n",
       "      <td>Jewell Pickett</td>\n",
       "      <td>171 Seville Bayou</td>\n",
       "      <td>Bountiful</td>\n",
       "    </tr>\n",
       "  </tbody>\n",
       "</table>\n",
       "</div>"
      ],
      "text/plain": [
       "   age          occupation        telephone   credit-card-number  \\\n",
       "0  111      Pipe Inspector     +18128827560  5129 3649 9791 3665   \n",
       "1  119             Gambler     +17170433209  5142 3506 1351 8247   \n",
       "2   50     Student Teacher  +1-570-230-4769  2462 4495 2187 3907   \n",
       "3  102  Litigation Manager     +12103992710  2661 4959 5373 2607   \n",
       "4    7         Tug Skipper     +12106465269    3499 791994 41697   \n",
       "\n",
       "  credit-card-expiration             name          street-address  \\\n",
       "0                  03/17  Brittny Simmons  813 Bluestone Motorway   \n",
       "1                  12/23  Nicholle Stokes          510 Quint Lake   \n",
       "2                  11/20   Tanja Jacobson     1169 Sheldon Circle   \n",
       "3                  01/20    Jerrod Graham         809 Osage Drive   \n",
       "4                  07/17   Jewell Pickett       171 Seville Bayou   \n",
       "\n",
       "             city  \n",
       "0  Virginia Beach  \n",
       "1          Ottawa  \n",
       "2    Edwardsville  \n",
       "3   South Holland  \n",
       "4       Bountiful  "
      ]
     },
     "execution_count": 14,
     "metadata": {},
     "output_type": "execute_result"
    }
   ],
   "source": [
    "df = b.map(flatten).to_dataframe()\n",
    "df.head()"
   ]
  },
  {
   "cell_type": "markdown",
   "metadata": {},
   "source": [
    "We can now perform the same computation as before, but now using Pandas and Dask dataframe."
   ]
  },
  {
   "cell_type": "code",
   "execution_count": 15,
   "metadata": {},
   "outputs": [
    {
     "data": {
      "text/plain": [
       "occupation\n",
       "Flower Arranger           16\n",
       "Recruitment Consultant    15\n",
       "Hotel Worker              15\n",
       "Yard Manager              15\n",
       "Parts Man                 14\n",
       "Housewife                 14\n",
       "Clairvoyant               13\n",
       "Quality Engineer          13\n",
       "Screen Printer            13\n",
       "Shot Blaster              13\n",
       "Name: count, dtype: int64[pyarrow]"
      ]
     },
     "execution_count": 15,
     "metadata": {},
     "output_type": "execute_result"
    }
   ],
   "source": [
    "df[df.age > 30].occupation.value_counts().nlargest(10).compute()"
   ]
  },
  {
   "cell_type": "markdown",
   "metadata": {},
   "source": [
    "## Learn More\n",
    "\n",
    "You may be interested in the following links:\n",
    "\n",
    "-  [Dask Bag Documentation](https://docs.dask.org/en/latest/bag.html)\n",
    "-  [API Documentation](http://docs.dask.org/en/latest/bag-api.html)"
   ]
  },
  {
   "cell_type": "code",
   "execution_count": null,
   "metadata": {},
   "outputs": [],
   "source": []
  }
 ],
 "metadata": {
  "kernelspec": {
   "display_name": "dask",
   "language": "python",
   "name": "python3"
  },
  "language_info": {
   "codemirror_mode": {
    "name": "ipython",
    "version": 3
   },
   "file_extension": ".py",
   "mimetype": "text/x-python",
   "name": "python",
   "nbconvert_exporter": "python",
   "pygments_lexer": "ipython3",
   "version": "3.13.0"
  }
 },
 "nbformat": 4,
 "nbformat_minor": 4
}
